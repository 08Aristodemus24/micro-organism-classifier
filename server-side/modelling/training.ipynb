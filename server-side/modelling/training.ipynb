{
 "cells": [
  {
   "cell_type": "code",
   "execution_count": 1,
   "metadata": {},
   "outputs": [],
   "source": [
    "# from google.colab import drive\n",
    "# drive.mount('/content/drive')"
   ]
  },
  {
   "cell_type": "code",
   "execution_count": 2,
   "metadata": {},
   "outputs": [],
   "source": [
    "# # navigate to root directory of current file in order to access other files relatively\n",
    "# %cd /content/drive/MyDrive/Colab\\ Notebooks/project-seraphim/server-side/modelling"
   ]
  },
  {
   "cell_type": "code",
   "execution_count": 3,
   "metadata": {},
   "outputs": [
    {
     "name": "stdout",
     "output_type": "stream",
     "text": [
      "WARNING:tensorflow:From c:\\ProgramData\\Anaconda3\\envs\\micro-organism-classifier\\Lib\\site-packages\\keras\\src\\losses.py:2976: The name tf.losses.sparse_softmax_cross_entropy is deprecated. Please use tf.compat.v1.losses.sparse_softmax_cross_entropy instead.\n",
      "\n"
     ]
    }
   ],
   "source": [
    "import pandas as pd\n",
    "import numpy as np\n",
    "import matplotlib.pyplot as plt\n",
    "import seaborn as sb\n",
    "from PIL import Image\n",
    "\n",
    "from utilities.loaders import (\n",
    "    create_image_set,\n",
    "    create_metrics_df,\n",
    "    create_classified_df)\n",
    "\n",
    "from utilities.preprocessors import (\n",
    "    one_hot_encode,\n",
    "    re_encode_sparse_labels,\n",
    "    decode_one_hot,\n",
    "    translate_labels,\n",
    "    encode_image,\n",
    "    standardize_image)\n",
    "\n",
    "from utilities.visualizers import (\n",
    "    data_split_metric_values,\n",
    "    multi_class_heatmap,\n",
    "    view_metric_values,\n",
    "    view_classified_labels,\n",
    "    view_label_freq,\n",
    "    ModelResults,\n",
    "    view_images,\n",
    "    view_all_splits_results,\n",
    "    show_image\n",
    ")\n",
    "\n",
    "from models.arcs import (\n",
    "    load_baseline_a,\n",
    "    train_model,\n",
    "    compile_model,\n",
    "    load_tuner,\n",
    "    train_tuner,\n",
    "    MOClassifierHyperModel\n",
    ")\n",
    "\n",
    "%load_ext autoreload\n",
    "%autoreload 2"
   ]
  },
  {
   "cell_type": "code",
   "execution_count": null,
   "metadata": {},
   "outputs": [],
   "source": []
  }
 ],
 "metadata": {
  "kernelspec": {
   "display_name": "micro-organism-classifier",
   "language": "python",
   "name": "python3"
  },
  "language_info": {
   "codemirror_mode": {
    "name": "ipython",
    "version": 3
   },
   "file_extension": ".py",
   "mimetype": "text/x-python",
   "name": "python",
   "nbconvert_exporter": "python",
   "pygments_lexer": "ipython3",
   "version": "3.11.5"
  }
 },
 "nbformat": 4,
 "nbformat_minor": 2
}
